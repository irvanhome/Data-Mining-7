{
  "nbformat": 4,
  "nbformat_minor": 0,
  "metadata": {
    "colab": {
      "name": "Tugas Akhir Data Mining.ipynb",
      "provenance": []
    },
    "kernelspec": {
      "name": "python3",
      "display_name": "Python 3"
    },
    "language_info": {
      "name": "python"
    }
  },
  "cells": [
    {
      "cell_type": "code",
      "metadata": {
        "id": "PKAGgympwk9J"
      },
      "source": [
        "#Library\n",
        "import numpy as np\n",
        "import pandas as pd\n",
        "import matplotlib.pyplot as plt\n",
        "import sklearn"
      ],
      "execution_count": 1,
      "outputs": []
    },
    {
      "cell_type": "code",
      "metadata": {
        "id": "unrAS7Y4ISJG"
      },
      "source": [
        "#Memanggil dataset\n",
        "dataset = pd.read_excel('HargaCupang.xlsx')\n",
        "x = dataset.iloc[:, :-1].values\n",
        "y = dataset.iloc[:, 1].values"
      ],
      "execution_count": 3,
      "outputs": []
    },
    {
      "cell_type": "code",
      "metadata": {
        "colab": {
          "base_uri": "https://localhost:8080/"
        },
        "id": "WGh-MECyIX0V",
        "outputId": "53712e18-8e05-44dc-92ff-3bb6733d90ad"
      },
      "source": [
        "dataset.keys()"
      ],
      "execution_count": 4,
      "outputs": [
        {
          "output_type": "execute_result",
          "data": {
            "text/plain": [
              "Index(['UmurCupang', 'HargaJual'], dtype='object')"
            ]
          },
          "metadata": {
            "tags": []
          },
          "execution_count": 4
        }
      ]
    },
    {
      "cell_type": "code",
      "metadata": {
        "colab": {
          "base_uri": "https://localhost:8080/"
        },
        "id": "yKMGOTOQIcXt",
        "outputId": "8f60ac51-98eb-4b5c-ee92-82263bc69e15"
      },
      "source": [
        "dataset.shape"
      ],
      "execution_count": 5,
      "outputs": [
        {
          "output_type": "execute_result",
          "data": {
            "text/plain": [
              "(799, 2)"
            ]
          },
          "metadata": {
            "tags": []
          },
          "execution_count": 5
        }
      ]
    },
    {
      "cell_type": "code",
      "metadata": {
        "colab": {
          "base_uri": "https://localhost:8080/",
          "height": 204
        },
        "id": "9JUHGSFRIiGN",
        "outputId": "d7a69576-d45a-45b5-ea60-936e157ac69a"
      },
      "source": [
        "#Menampilkan isi sebagian dataset\n",
        "dataku = pd.DataFrame(dataset)\n",
        "dataku.head()"
      ],
      "execution_count": 6,
      "outputs": [
        {
          "output_type": "execute_result",
          "data": {
            "text/html": [
              "<div>\n",
              "<style scoped>\n",
              "    .dataframe tbody tr th:only-of-type {\n",
              "        vertical-align: middle;\n",
              "    }\n",
              "\n",
              "    .dataframe tbody tr th {\n",
              "        vertical-align: top;\n",
              "    }\n",
              "\n",
              "    .dataframe thead th {\n",
              "        text-align: right;\n",
              "    }\n",
              "</style>\n",
              "<table border=\"1\" class=\"dataframe\">\n",
              "  <thead>\n",
              "    <tr style=\"text-align: right;\">\n",
              "      <th></th>\n",
              "      <th>UmurCupang</th>\n",
              "      <th>HargaJual</th>\n",
              "    </tr>\n",
              "  </thead>\n",
              "  <tbody>\n",
              "    <tr>\n",
              "      <th>0</th>\n",
              "      <td>2</td>\n",
              "      <td>5200</td>\n",
              "    </tr>\n",
              "    <tr>\n",
              "      <th>1</th>\n",
              "      <td>2</td>\n",
              "      <td>5210</td>\n",
              "    </tr>\n",
              "    <tr>\n",
              "      <th>2</th>\n",
              "      <td>2</td>\n",
              "      <td>5220</td>\n",
              "    </tr>\n",
              "    <tr>\n",
              "      <th>3</th>\n",
              "      <td>2</td>\n",
              "      <td>5230</td>\n",
              "    </tr>\n",
              "    <tr>\n",
              "      <th>4</th>\n",
              "      <td>2</td>\n",
              "      <td>5240</td>\n",
              "    </tr>\n",
              "  </tbody>\n",
              "</table>\n",
              "</div>"
            ],
            "text/plain": [
              "   UmurCupang  HargaJual\n",
              "0           2       5200\n",
              "1           2       5210\n",
              "2           2       5220\n",
              "3           2       5230\n",
              "4           2       5240"
            ]
          },
          "metadata": {
            "tags": []
          },
          "execution_count": 6
        }
      ]
    },
    {
      "cell_type": "code",
      "metadata": {
        "id": "2ieqCzUiIm1N"
      },
      "source": [
        "#Split dataset menjadi training set dan testing set\n",
        "from sklearn.model_selection import train_test_split\n",
        "x_train, x_test, y_train, y_test = train_test_split(x, y, test_size = 0.2, random_state=0)"
      ],
      "execution_count": 7,
      "outputs": []
    },
    {
      "cell_type": "code",
      "metadata": {
        "colab": {
          "base_uri": "https://localhost:8080/"
        },
        "id": "LcGDKsCTIoVs",
        "outputId": "d483c8ef-8ea2-4b1d-a973-1a1188751265"
      },
      "source": [
        "#Melakukan Fitting Simple Linear Regression pada Training Set\n",
        "from sklearn.linear_model import LinearRegression\n",
        "regressor = LinearRegression()\n",
        "regressor.fit(x_train, y_train)"
      ],
      "execution_count": 8,
      "outputs": [
        {
          "output_type": "execute_result",
          "data": {
            "text/plain": [
              "LinearRegression(copy_X=True, fit_intercept=True, n_jobs=None, normalize=False)"
            ]
          },
          "metadata": {
            "tags": []
          },
          "execution_count": 8
        }
      ]
    },
    {
      "cell_type": "code",
      "metadata": {
        "id": "wUGagx38Irq1"
      },
      "source": [
        "#Memprediksi Hasil Test-Set\n",
        "y_pred = regressor.predict(x_test)"
      ],
      "execution_count": 9,
      "outputs": []
    },
    {
      "cell_type": "code",
      "metadata": {
        "colab": {
          "base_uri": "https://localhost:8080/"
        },
        "id": "M0mDkFUOIv61",
        "outputId": "688d8988-df7f-48ba-e654-a2bfc1a12bb6"
      },
      "source": [
        "y_pred"
      ],
      "execution_count": 10,
      "outputs": [
        {
          "output_type": "execute_result",
          "data": {
            "text/plain": [
              "array([6857.86337302, 6857.86337302, 6857.86337302, 2603.28577123,\n",
              "       8985.15217391, 6857.86337302, 4730.57457213, 8985.15217391,\n",
              "       8985.15217391, 6857.86337302, 2603.28577123, 4730.57457213,\n",
              "       6857.86337302, 8985.15217391, 2603.28577123, 2603.28577123,\n",
              "       4730.57457213, 4730.57457213, 4730.57457213, 8985.15217391,\n",
              "       8985.15217391, 4730.57457213, 6857.86337302, 6857.86337302,\n",
              "       8985.15217391, 4730.57457213, 4730.57457213, 6857.86337302,\n",
              "       4730.57457213, 4730.57457213, 6857.86337302, 8985.15217391,\n",
              "       2603.28577123, 6857.86337302, 4730.57457213, 2603.28577123,\n",
              "       8985.15217391, 6857.86337302, 4730.57457213, 6857.86337302,\n",
              "       6857.86337302, 8985.15217391, 4730.57457213, 8985.15217391,\n",
              "       6857.86337302, 6857.86337302, 6857.86337302, 8985.15217391,\n",
              "       4730.57457213, 8985.15217391, 6857.86337302, 6857.86337302,\n",
              "       4730.57457213, 2603.28577123, 8985.15217391, 6857.86337302,\n",
              "       6857.86337302, 8985.15217391, 8985.15217391, 4730.57457213,\n",
              "       8985.15217391, 2603.28577123, 6857.86337302, 8985.15217391,\n",
              "       4730.57457213, 8985.15217391, 6857.86337302, 4730.57457213,\n",
              "       6857.86337302, 8985.15217391, 6857.86337302, 6857.86337302,\n",
              "       2603.28577123, 6857.86337302, 6857.86337302, 2603.28577123,\n",
              "       8985.15217391, 8985.15217391, 8985.15217391, 8985.15217391,\n",
              "       4730.57457213, 4730.57457213, 6857.86337302, 8985.15217391,\n",
              "       6857.86337302, 4730.57457213, 8985.15217391, 6857.86337302,\n",
              "       6857.86337302, 4730.57457213, 6857.86337302, 4730.57457213,\n",
              "       8985.15217391, 6857.86337302, 8985.15217391, 8985.15217391,\n",
              "       8985.15217391, 8985.15217391, 6857.86337302, 4730.57457213,\n",
              "       6857.86337302, 6857.86337302, 6857.86337302, 4730.57457213,\n",
              "       2603.28577123, 4730.57457213, 6857.86337302, 4730.57457213,\n",
              "       6857.86337302, 6857.86337302, 6857.86337302, 2603.28577123,\n",
              "       8985.15217391, 8985.15217391, 6857.86337302, 6857.86337302,\n",
              "       4730.57457213, 2603.28577123, 6857.86337302, 6857.86337302,\n",
              "       8985.15217391, 4730.57457213, 2603.28577123, 8985.15217391,\n",
              "       2603.28577123, 6857.86337302, 4730.57457213, 8985.15217391,\n",
              "       6857.86337302, 4730.57457213, 6857.86337302, 8985.15217391,\n",
              "       2603.28577123, 8985.15217391, 4730.57457213, 4730.57457213,\n",
              "       4730.57457213, 4730.57457213, 8985.15217391, 6857.86337302,\n",
              "       6857.86337302, 8985.15217391, 8985.15217391, 4730.57457213,\n",
              "       8985.15217391, 6857.86337302, 4730.57457213, 2603.28577123,\n",
              "       2603.28577123, 4730.57457213, 6857.86337302, 4730.57457213,\n",
              "       2603.28577123, 4730.57457213, 2603.28577123, 4730.57457213,\n",
              "       6857.86337302, 6857.86337302, 8985.15217391, 4730.57457213])"
            ]
          },
          "metadata": {
            "tags": []
          },
          "execution_count": 10
        }
      ]
    },
    {
      "cell_type": "code",
      "metadata": {
        "colab": {
          "base_uri": "https://localhost:8080/",
          "height": 419
        },
        "id": "qnBCMV0HIzg3",
        "outputId": "59c3f237-d6f4-45c5-e8d8-ff732452ab30"
      },
      "source": [
        "dataku.dropna()"
      ],
      "execution_count": 11,
      "outputs": [
        {
          "output_type": "execute_result",
          "data": {
            "text/html": [
              "<div>\n",
              "<style scoped>\n",
              "    .dataframe tbody tr th:only-of-type {\n",
              "        vertical-align: middle;\n",
              "    }\n",
              "\n",
              "    .dataframe tbody tr th {\n",
              "        vertical-align: top;\n",
              "    }\n",
              "\n",
              "    .dataframe thead th {\n",
              "        text-align: right;\n",
              "    }\n",
              "</style>\n",
              "<table border=\"1\" class=\"dataframe\">\n",
              "  <thead>\n",
              "    <tr style=\"text-align: right;\">\n",
              "      <th></th>\n",
              "      <th>UmurCupang</th>\n",
              "      <th>HargaJual</th>\n",
              "    </tr>\n",
              "  </thead>\n",
              "  <tbody>\n",
              "    <tr>\n",
              "      <th>0</th>\n",
              "      <td>2</td>\n",
              "      <td>5200</td>\n",
              "    </tr>\n",
              "    <tr>\n",
              "      <th>1</th>\n",
              "      <td>2</td>\n",
              "      <td>5210</td>\n",
              "    </tr>\n",
              "    <tr>\n",
              "      <th>2</th>\n",
              "      <td>2</td>\n",
              "      <td>5220</td>\n",
              "    </tr>\n",
              "    <tr>\n",
              "      <th>3</th>\n",
              "      <td>2</td>\n",
              "      <td>5230</td>\n",
              "    </tr>\n",
              "    <tr>\n",
              "      <th>4</th>\n",
              "      <td>2</td>\n",
              "      <td>5240</td>\n",
              "    </tr>\n",
              "    <tr>\n",
              "      <th>...</th>\n",
              "      <td>...</td>\n",
              "      <td>...</td>\n",
              "    </tr>\n",
              "    <tr>\n",
              "      <th>794</th>\n",
              "      <td>5</td>\n",
              "      <td>10140</td>\n",
              "    </tr>\n",
              "    <tr>\n",
              "      <th>795</th>\n",
              "      <td>5</td>\n",
              "      <td>10150</td>\n",
              "    </tr>\n",
              "    <tr>\n",
              "      <th>796</th>\n",
              "      <td>5</td>\n",
              "      <td>10160</td>\n",
              "    </tr>\n",
              "    <tr>\n",
              "      <th>797</th>\n",
              "      <td>5</td>\n",
              "      <td>10170</td>\n",
              "    </tr>\n",
              "    <tr>\n",
              "      <th>798</th>\n",
              "      <td>5</td>\n",
              "      <td>10180</td>\n",
              "    </tr>\n",
              "  </tbody>\n",
              "</table>\n",
              "<p>799 rows × 2 columns</p>\n",
              "</div>"
            ],
            "text/plain": [
              "     UmurCupang  HargaJual\n",
              "0             2       5200\n",
              "1             2       5210\n",
              "2             2       5220\n",
              "3             2       5230\n",
              "4             2       5240\n",
              "..          ...        ...\n",
              "794           5      10140\n",
              "795           5      10150\n",
              "796           5      10160\n",
              "797           5      10170\n",
              "798           5      10180\n",
              "\n",
              "[799 rows x 2 columns]"
            ]
          },
          "metadata": {
            "tags": []
          },
          "execution_count": 11
        }
      ]
    },
    {
      "cell_type": "code",
      "metadata": {
        "colab": {
          "base_uri": "https://localhost:8080/",
          "height": 312
        },
        "id": "a69knR4GI28U",
        "outputId": "234ebebe-fcf4-40b8-d261-8db193a30175"
      },
      "source": [
        "#Visualisasi Data\n",
        "plt.scatter(dataku.UmurCupang, dataku.HargaJual)\n",
        "plt.xlabel('Usia Cupang (bulan)')\n",
        "plt.ylabel('Harga Cupang ($)')\n",
        "plt.title('Grafik Usia Cupang vs Harga Cupang')\n",
        "plt.show"
      ],
      "execution_count": 12,
      "outputs": [
        {
          "output_type": "execute_result",
          "data": {
            "text/plain": [
              "<function matplotlib.pyplot.show>"
            ]
          },
          "metadata": {
            "tags": []
          },
          "execution_count": 12
        },
        {
          "output_type": "display_data",
          "data": {
            "image/png": "[encoded data removed]",
            "text/plain": [
              "<Figure size 432x288 with 1 Axes>"
            ]
          },
          "metadata": {
            "tags": [],
            "needs_background": "light"
          }
        }
      ]
    },
    {
      "cell_type": "code",
      "metadata": {
        "colab": {
          "base_uri": "https://localhost:8080/",
          "height": 530
        },
        "id": "2eUwbXpJI60v",
        "outputId": "779f9902-f32a-4ff7-c859-aea09dcc0356"
      },
      "source": [
        "#Visualisasi Hasil Prediksi Pada Training Set\n",
        "#Ukuran Plot\n",
        "plt.figure(figsize=(10, 8))\n",
        "\n",
        "#merah adalah data observasi\n",
        "plt.scatter(x_train, y_train, color='red')\n",
        "\n",
        "#Garis biru adalah hasil prediksi dari Mechine Learning\n",
        "plt.plot(x_train, regressor.predict(x_train), color ='blue')\n",
        "\n",
        "#Memberi Judul dan Label\n",
        "plt.title('Usia Cupang terhadap Harga(Training Set)')\n",
        "plt.xlabel('Usia Cupang')\n",
        "plt.ylabel('Harga')\n",
        "\n",
        "#Menampilkan Plot\n",
        "plt.show"
      ],
      "execution_count": 13,
      "outputs": [
        {
          "output_type": "execute_result",
          "data": {
            "text/plain": [
              "<function matplotlib.pyplot.show>"
            ]
          },
          "metadata": {
            "tags": []
          },
          "execution_count": 13
        },
        {
          "output_type": "display_data",
          "data": {
            "image/png": "[encoded data removed]",
            "text/plain": [
              "<Figure size 720x576 with 1 Axes>"
            ]
          },
          "metadata": {
            "tags": [],
            "needs_background": "light"
          }
        }
      ]
    },
    {
      "cell_type": "code",
      "metadata": {
        "colab": {
          "base_uri": "https://localhost:8080/",
          "height": 530
        },
        "id": "pqaoS5NBI_6l",
        "outputId": "c037289b-9506-4cf0-922f-1b2f588a5b01"
      },
      "source": [
        "#Visualisasi Hasil Prediksi Pada Test-Set\n",
        "#Ukuran Plot\n",
        "plt.figure(figsize=(10,8))\n",
        "\n",
        "#merah Adalah Data Observasi\n",
        "plt.scatter(x_test, y_test, color = 'red')\n",
        "\n",
        "#Garis biru adalah hasil prediksi dari machine learning\n",
        "plt.plot(x_test, regressor.predict(x_test), color = 'blue')\n",
        "\n",
        "#Memberikan Judul dan Label\n",
        "plt.title('Usia Cupang terhadap Harga(Test Set)')\n",
        "plt.xlabel('Usia Cupang')\n",
        "plt.ylabel('Harga')\n",
        "\n",
        "#Menampilkan Plot\n",
        "plt.show"
      ],
      "execution_count": 14,
      "outputs": [
        {
          "output_type": "execute_result",
          "data": {
            "text/plain": [
              "<function matplotlib.pyplot.show>"
            ]
          },
          "metadata": {
            "tags": []
          },
          "execution_count": 14
        },
        {
          "output_type": "display_data",
          "data": {
            "image/png": "[encoded data removed]",
            "text/plain": [
              "<Figure size 720x576 with 1 Axes>"
            ]
          },
          "metadata": {
            "tags": [],
            "needs_background": "light"
          }
        }
      ]
    }
  ]
}